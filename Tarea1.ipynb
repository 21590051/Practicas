{
  "nbformat": 4,
  "nbformat_minor": 0,
  "metadata": {
    "colab": {
      "name": "Tarea1.ipynb",
      "provenance": [],
      "authorship_tag": "ABX9TyOI7SpG7JL80QDbRzBhmij/",
      "include_colab_link": true
    },
    "kernelspec": {
      "name": "python3",
      "display_name": "Python 3"
    },
    "language_info": {
      "name": "python"
    }
  },
  "cells": [
    {
      "cell_type": "markdown",
      "metadata": {
        "id": "view-in-github",
        "colab_type": "text"
      },
      "source": [
        "<a href=\"https://colab.research.google.com/github/21590051/Practicas/blob/main/Tarea1.ipynb\" target=\"_parent\"><img src=\"https://colab.research.google.com/assets/colab-badge.svg\" alt=\"Open In Colab\"/></a>"
      ]
    },
    {
      "cell_type": "markdown",
      "source": [
        "Sirve para hacer sumas, restas, multiplicaciones y divisiones. \n",
        "Elaborado por. Carranza Cervantes Daniela\n",
        "24/08/2022"
      ],
      "metadata": {
        "id": "_agI9XvC6klT"
      }
    },
    {
      "cell_type": "code",
      "execution_count": 28,
      "metadata": {
        "colab": {
          "base_uri": "https://localhost:8080/"
        },
        "id": "mu7xc0RD6j0Z",
        "outputId": "7d5a1675-2ab1-4296-ac03-6fc4f378b9db"
      },
      "outputs": [
        {
          "name": "stdout",
          "output_type": "stream",
          "text": [
            "Ingresa el valor de a:455\n",
            "Ingresa el valor de b:200\n",
            "Que tipo de operacion matematica deseas realizar con 455 y 200\n",
            "S para sumar\n",
            "R para restar\n",
            "M para multiplicar\n",
            "D para dividir\n",
            "X para salir:\n",
            "S\n",
            "El resultado es:655\n",
            "Presione cualquier tecla para realizar otra operacionX\n",
            "Que tipo de operacion matematica deseas realizar con 455 y 200\n",
            "S para sumar\n",
            "R para restar\n",
            "M para multiplicar\n",
            "D para dividir\n",
            "X para salir:\n",
            "X\n"
          ]
        }
      ],
      "source": [
        "def pedirNumeros():\n",
        "    a=int(input(\"Ingresa el valor de a:\"))\n",
        "    b=int(input(\"Ingresa el valor de b:\"))\n",
        "    return a,b\n",
        "def suma(a,b):\n",
        "    return a+b\n",
        "def resta(a,b):\n",
        "    return a-b\n",
        "def multiplicacion(a,b):\n",
        "    return a*b\n",
        "def division(a,b):\n",
        "    return a/b\n",
        "def menu(a,b):\n",
        "    while True:\n",
        "        print(f\"Que tipo de operacion matematica deseas realizar con {a} y {b}\\n\\\n",
        "S para sumar\\n\\\n",
        "R para restar\\n\\\n",
        "M para multiplicar\\n\\\n",
        "D para dividir\\n\\\n",
        "X para salir:\")\n",
        "        opcion=input()\n",
        "        if opcion=='S':\n",
        "            print(f\"El resultado es:{suma(a,b)}\")\n",
        "        if opcion=='R':\n",
        "            print(f\"El resultado es:{resta(a,b)}\")\n",
        "        if opcion=='M':\n",
        "            print(f\"El resultado es:{multiplicacion(a,b)}\")\n",
        "        if opcion=='D':\n",
        "            print(f\"El resultado es:{division(a,b)}\")\n",
        "        if opcion=='X':\n",
        "            break\n",
        "        input(\"Presione cualquier tecla para realizar otra operacion\")\n",
        "      \n",
        "a,b=pedirNumeros()\n",
        "menu(a,b)"
      ]
    }
  ]
}