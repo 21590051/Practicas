{
  "nbformat": 4,
  "nbformat_minor": 0,
  "metadata": {
    "colab": {
      "name": "Practica4",
      "provenance": [],
      "authorship_tag": "ABX9TyOaPxRW3wyqWm6JmZopUzlP",
      "include_colab_link": true
    },
    "kernelspec": {
      "name": "python3",
      "display_name": "Python 3"
    },
    "language_info": {
      "name": "python"
    }
  },
  "cells": [
    {
      "cell_type": "markdown",
      "metadata": {
        "id": "view-in-github",
        "colab_type": "text"
      },
      "source": [
        "<a href=\"https://colab.research.google.com/github/21590051/Practicas/blob/main/Practica4.ipynb\" target=\"_parent\"><img src=\"https://colab.research.google.com/assets/colab-badge.svg\" alt=\"Open In Colab\"/></a>"
      ]
    },
    {
      "cell_type": "code",
      "execution_count": null,
      "metadata": {
        "id": "6TWaD0D4Mwpy"
      },
      "outputs": [],
      "source": [
        ""
      ]
    },
    {
      "cell_type": "markdown",
      "source": [
        "Uso de la funcion def \n",
        "Elaborado por: Carranza Cervantes Daniela 23/08/2022"
      ],
      "metadata": {
        "id": "8-TGIZvvM1fO"
      }
    },
    {
      "cell_type": "code",
      "source": [
        "def holaMundo():\n",
        "  nombre=input(\"Escribe tu nombre\") \n",
        "  print(\"Hola \" ,nombre, \" como estas\")\n",
        "\n",
        "holaMundo()\n"
      ],
      "metadata": {
        "colab": {
          "base_uri": "https://localhost:8080/"
        },
        "id": "89mwLssVNXVf",
        "outputId": "cf7bc75b-2f9c-4c72-8703-53f4f35b741d"
      },
      "execution_count": 1,
      "outputs": [
        {
          "output_type": "stream",
          "name": "stdout",
          "text": [
            "Escribe tu nombreDaniela\n",
            "Hola  Daniela  como estas\n"
          ]
        }
      ]
    },
    {
      "cell_type": "markdown",
      "source": [
        "Mismo ejercicio pero con paso de parametros.\n",
        "Elaborado por: Carranza Cervantes Daniela 23/08/2022"
      ],
      "metadata": {
        "id": "cSE78hrHPh7f"
      }
    },
    {
      "cell_type": "code",
      "source": [
        "def saludo(nombre):\n",
        "  print(\"Hola \" ,nombre, \" como estas\")\n",
        "\n",
        "#nombre=input(\"Escribe tu nombre\")\n",
        "saludo(\"Daniela\")\n",
        "nombre=input(\"Escribe tu nombre\")\n",
        "saludo(nombre)"
      ],
      "metadata": {
        "id": "WmDbaBcO0sxA"
      },
      "execution_count": null,
      "outputs": []
    }
  ]
}