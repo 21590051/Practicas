{
  "nbformat": 4,
  "nbformat_minor": 0,
  "metadata": {
    "colab": {
      "name": "Practica2.ipynb",
      "provenance": [],
      "authorship_tag": "ABX9TyMKR2ASzu52bUSSd00Vxm6R",
      "include_colab_link": true
    },
    "kernelspec": {
      "name": "python3",
      "display_name": "Python 3"
    },
    "language_info": {
      "name": "python"
    }
  },
  "cells": [
    {
      "cell_type": "markdown",
      "metadata": {
        "id": "view-in-github",
        "colab_type": "text"
      },
      "source": [
        "<a href=\"https://colab.research.google.com/github/21590051/Practicas/blob/main/Practica2.ipynb\" target=\"_parent\"><img src=\"https://colab.research.google.com/assets/colab-badge.svg\" alt=\"Open In Colab\"/></a>"
      ]
    },
    {
      "cell_type": "markdown",
      "source": [
        "Capturar texto y convertirlo en un arreglo\n",
        "Elaborado por. Carranza Cervantes Daniela\n",
        "\n",
        "\n"
      ],
      "metadata": {
        "id": "d1-3GHfhOWOW"
      }
    },
    {
      "cell_type": "code",
      "source": [
        "text = input(\"Ingresar texto:\")\n",
        "arreglo = text.split()\n",
        "palabra = input(\"Ingresar la palabra que deseas buscar: \")\n",
        "cont = text.count(palabra) \n",
        "print(\"Numero de veces que aparece la palabra: \")\n",
        "print(cont) \n",
        "print(\"Tamaño del arreglo:\", len(arreglo))\n",
        "if cont == 0:\n",
        "  print(\" No existe la palabra\")\n",
        "else:\n",
        "  print(\"Si existe esta palabra\")  "
      ],
      "metadata": {
        "id": "uap1mKvKRGAT",
        "colab": {
          "base_uri": "https://localhost:8080/"
        },
        "outputId": "78ecfe1a-04a5-48e6-b9a2-5063201f743d"
      },
      "execution_count": 11,
      "outputs": [
        {
          "output_type": "stream",
          "name": "stdout",
          "text": [
            "Ingresar texto:hola como estas como te fue\n",
            "Ingresar la palabra que deseas buscar: como\n",
            "Numero de veces que aparece la palabra: \n",
            "2\n",
            "Tamaño del arreglo: 6\n",
            "Si existe esta palabra\n"
          ]
        }
      ]
    }
  ]
}