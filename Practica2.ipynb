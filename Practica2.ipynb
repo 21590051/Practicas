{
  "nbformat": 4,
  "nbformat_minor": 0,
  "metadata": {
    "colab": {
      "name": "Practica2",
      "provenance": [],
      "authorship_tag": "ABX9TyMPUUyXdB5xrXma8LmnG+ra",
      "include_colab_link": true
    },
    "kernelspec": {
      "name": "python3",
      "display_name": "Python 3"
    },
    "language_info": {
      "name": "python"
    }
  },
  "cells": [
    {
      "cell_type": "markdown",
      "metadata": {
        "id": "view-in-github",
        "colab_type": "text"
      },
      "source": [
        "<a href=\"https://colab.research.google.com/github/21590051/Practicas/blob/main/Practica2.ipynb\" target=\"_parent\"><img src=\"https://colab.research.google.com/assets/colab-badge.svg\" alt=\"Open In Colab\"/></a>"
      ]
    },
    {
      "cell_type": "markdown",
      "source": [
        "Pedir un numero y imprimir las tablas de multiplcar de ese numero. \n",
        "Elaborado por: Carranza Cervantes Daniela\n",
        "23/08/2022"
      ],
      "metadata": {
        "id": "WQKpdK3cFBVP"
      }
    },
    {
      "cell_type": "code",
      "source": [
        "i =int(input(\"Escribe un numero del 1 al 10 = \"))\n",
        "for n in range(1, 11):\n",
        "  print(n,\" 1 X \", i, \"=\",n*i)"
      ],
      "metadata": {
        "colab": {
          "base_uri": "https://localhost:8080/"
        },
        "id": "_BA4gkSMFPgy",
        "outputId": "7a9bf3f1-7fb4-4f47-9cf9-52b117caa18f"
      },
      "execution_count": 10,
      "outputs": [
        {
          "output_type": "stream",
          "name": "stdout",
          "text": [
            "Escribe un numero del 1 al 10 = 5\n",
            "1  1 X  5 = 5\n",
            "2  1 X  5 = 10\n",
            "3  1 X  5 = 15\n",
            "4  1 X  5 = 20\n",
            "5  1 X  5 = 25\n",
            "6  1 X  5 = 30\n",
            "7  1 X  5 = 35\n",
            "8  1 X  5 = 40\n",
            "9  1 X  5 = 45\n",
            "10  1 X  5 = 50\n"
          ]
        }
      ]
    }
  ]
}