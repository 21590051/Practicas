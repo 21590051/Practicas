{
  "nbformat": 4,
  "nbformat_minor": 0,
  "metadata": {
    "colab": {
      "name": "Practica2.ipynb",
      "provenance": [],
      "authorship_tag": "ABX9TyNypX2GN+KNgWzVRi+qXkTF",
      "include_colab_link": true
    },
    "kernelspec": {
      "name": "python3",
      "display_name": "Python 3"
    },
    "language_info": {
      "name": "python"
    }
  },
  "cells": [
    {
      "cell_type": "markdown",
      "metadata": {
        "id": "view-in-github",
        "colab_type": "text"
      },
      "source": [
        "<a href=\"https://colab.research.google.com/github/21590051/Practicas/blob/main/Practica2.ipynb\" target=\"_parent\"><img src=\"https://colab.research.google.com/assets/colab-badge.svg\" alt=\"Open In Colab\"/></a>"
      ]
    },
    {
      "cell_type": "markdown",
      "source": [
        "Capturar texto y convertirlo en un arreglo\n",
        "Elaborado por. Carranza Cervantes Daniela\n",
        "\n",
        "\n"
      ],
      "metadata": {
        "id": "d1-3GHfhOWOW"
      }
    },
    {
      "cell_type": "code",
      "source": [
        "text = input(\"Ingresar texto:\")\n",
        "arreglo = text.split()\n",
        "palabra = input(\"Ingresar la palabra que deseas buscar: \")\n",
        "cont = text.count(palabra) \n",
        "print(cont) \n",
        "print(\"Tamaño del arreglo: \", len(arreglo))\n",
        "if cont == 1:\n",
        "  print(\"Si existe la palabra\")\n",
        "else:\n",
        "  print(\"No existe esta palabra\")  "
      ],
      "metadata": {
        "id": "uap1mKvKRGAT"
      },
      "execution_count": null,
      "outputs": []
    }
  ]
}