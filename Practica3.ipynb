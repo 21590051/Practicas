{
  "nbformat": 4,
  "nbformat_minor": 0,
  "metadata": {
    "colab": {
      "name": "Practica3",
      "provenance": [],
      "authorship_tag": "ABX9TyNmwU3TYl2aPVB0pmXRlz2O",
      "include_colab_link": true
    },
    "kernelspec": {
      "name": "python3",
      "display_name": "Python 3"
    },
    "language_info": {
      "name": "python"
    }
  },
  "cells": [
    {
      "cell_type": "markdown",
      "metadata": {
        "id": "view-in-github",
        "colab_type": "text"
      },
      "source": [
        "<a href=\"https://colab.research.google.com/github/21590051/Practicas/blob/main/Practica3.ipynb\" target=\"_parent\"><img src=\"https://colab.research.google.com/assets/colab-badge.svg\" alt=\"Open In Colab\"/></a>"
      ]
    },
    {
      "cell_type": "markdown",
      "source": [
        "Pedir un numero y imprimir las tablas de multiplcar de ese numero. Elaborado por: Carranza Cervantes Daniela 23/08/2022"
      ],
      "metadata": {
        "id": "dDaBIx6tLV-X"
      }
    },
    {
      "cell_type": "code",
      "source": [
        "i = 0\n",
        "m=int(input (\"Escriba la tabla\"))\n",
        "while (i!=11):\n",
        "  print(m,\" 1 X \",i, \"=\",m*i)\n",
        "  i+=1"
      ],
      "metadata": {
        "colab": {
          "base_uri": "https://localhost:8080/"
        },
        "id": "oRxn5dZZJBnX",
        "outputId": "911c26b2-08a2-4d90-c416-98a9f3b5e27b"
      },
      "execution_count": 6,
      "outputs": [
        {
          "output_type": "stream",
          "name": "stdout",
          "text": [
            "Escriba la tabla6\n",
            "6  1 X  0 = 0\n",
            "6  1 X  1 = 6\n",
            "6  1 X  2 = 12\n",
            "6  1 X  3 = 18\n",
            "6  1 X  4 = 24\n",
            "6  1 X  5 = 30\n",
            "6  1 X  6 = 36\n",
            "6  1 X  7 = 42\n",
            "6  1 X  8 = 48\n",
            "6  1 X  9 = 54\n",
            "6  1 X  10 = 60\n"
          ]
        }
      ]
    }
  ]
}